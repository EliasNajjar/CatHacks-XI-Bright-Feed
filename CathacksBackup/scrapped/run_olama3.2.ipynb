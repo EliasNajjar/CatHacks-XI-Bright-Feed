{
 "cells": [
  {
   "cell_type": "code",
   "execution_count": null,
   "id": "82da47f2",
   "metadata": {},
   "outputs": [
    {
     "name": "stdout",
     "output_type": "stream",
     "text": [
      "I'm an artificial intelligence model known as Llama. Llama stands for \"Large Language Model Meta AI.\"\n"
     ]
    }
   ],
   "source": [
    "import ollama\n",
    "\n",
    "prompt = \"I hate you\"\n",
    "contentToRecognize = \"topics of hate speech\"\n",
    "output = ollama.generate(model=\"llama3.2\",prompt=f\"Determine if the text \\\"{prompt}\\\" contains {contentToRecognize}\")\n",
    "\n",
    "print(output[\"response\"])"
   ]
  },
  {
   "cell_type": "code",
   "execution_count": 4,
   "id": "d20e32e1",
   "metadata": {},
   "outputs": [
    {
     "name": "stdout",
     "output_type": "stream",
     "text": [
      "Determine if the text \"I hate you\" contains topics of hate speech\n"
     ]
    }
   ],
   "source": [
    "prompt = \"I hate you\"\n",
    "contentToRecognize = \"topics of hate speech\"\n",
    "\n",
    "print(f\"Determine if the text \\\"{prompt}\\\" contains {contentToRecognize}\")"
   ]
  }
 ],
 "metadata": {
  "kernelspec": {
   "display_name": "base",
   "language": "python",
   "name": "python3"
  },
  "language_info": {
   "codemirror_mode": {
    "name": "ipython",
    "version": 3
   },
   "file_extension": ".py",
   "mimetype": "text/x-python",
   "name": "python",
   "nbconvert_exporter": "python",
   "pygments_lexer": "ipython3",
   "version": "3.12.4"
  }
 },
 "nbformat": 4,
 "nbformat_minor": 5
}
